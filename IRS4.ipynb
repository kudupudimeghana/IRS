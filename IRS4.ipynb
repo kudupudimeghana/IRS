{
  "nbformat": 4,
  "nbformat_minor": 0,
  "metadata": {
    "colab": {
      "provenance": [],
      "authorship_tag": "ABX9TyMEXDtZaITvMzReibW/1fDg",
      "include_colab_link": true
    },
    "kernelspec": {
      "name": "python3",
      "display_name": "Python 3"
    },
    "language_info": {
      "name": "python"
    }
  },
  "cells": [
    {
      "cell_type": "markdown",
      "metadata": {
        "id": "view-in-github",
        "colab_type": "text"
      },
      "source": [
        "<a href=\"https://colab.research.google.com/github/kudupudimeghana/IRS/blob/main/IRS4.ipynb\" target=\"_parent\"><img src=\"https://colab.research.google.com/assets/colab-badge.svg\" alt=\"Open In Colab\"/></a>"
      ]
    },
    {
      "cell_type": "code",
      "execution_count": null,
      "metadata": {
        "id": "TJ5Ku5gvpDpZ",
        "colab": {
          "base_uri": "https://localhost:8080/"
        },
        "outputId": "31b43a0d-2d08-4f4f-959e-6125bd0d68d8"
      },
      "outputs": [
        {
          "output_type": "stream",
          "name": "stdout",
          "text": [
            "Multinomial Naive Bayes Accuracy: 0.8265786993402451\n",
            "Classification Report for Naive Bayes:\n",
            "                     precision    recall  f1-score   support\n",
            "\n",
            "       alt.atheism       0.82      0.78      0.80       248\n",
            "     comp.graphics       0.85      0.89      0.87       312\n",
            "         sci.space       0.78      0.82      0.80       280\n",
            "talk.politics.misc       0.87      0.80      0.83       221\n",
            "\n",
            "          accuracy                           0.83      1061\n",
            "         macro avg       0.83      0.82      0.82      1061\n",
            "      weighted avg       0.83      0.83      0.83      1061\n",
            "\n",
            "Linear SVM Accuracy: 0.8152686145146089\n",
            "Classification Report for Linear SVM:\n",
            "                     precision    recall  f1-score   support\n",
            "\n",
            "       alt.atheism       0.81      0.75      0.78       248\n",
            "     comp.graphics       0.90      0.87      0.88       312\n",
            "         sci.space       0.75      0.81      0.78       280\n",
            "talk.politics.misc       0.78      0.82      0.80       221\n",
            "\n",
            "          accuracy                           0.82      1061\n",
            "         macro avg       0.81      0.81      0.81      1061\n",
            "      weighted avg       0.82      0.82      0.82      1061\n",
            "\n"
          ]
        }
      ],
      "source": [
        "from os import remove\n",
        "from sklearn.datasets import fetch_20newsgroups\n",
        "from sklearn.feature_extraction.text import TfidfVectorizer\n",
        "from sklearn.model_selection import train_test_split\n",
        "from sklearn.naive_bayes import MultinomialNB\n",
        "from sklearn.svm import LinearSVC\n",
        "from sklearn.metrics import classification_report, accuracy_score\n",
        "Categories = ['alt.atheism', 'comp.graphics', 'sci.space', 'talk.politics.misc']\n",
        "newsgroups = fetch_20newsgroups(subset='all', categories=Categories, remove=('headers', 'footers', 'quotes'))\n",
        "vectorizer = TfidfVectorizer(stop_words='english', max_features=2000)\n",
        "x = vectorizer.fit_transform(newsgroups.data)\n",
        "y = newsgroups.target\n",
        "x_train, x_test, y_train, y_test = train_test_split(x, y, test_size=0.3, random_state=42)\n",
        "nb_clf = MultinomialNB()\n",
        "nb_clf.fit(x_train, y_train)\n",
        "y_pred_nb = nb_clf.predict(x_test)\n",
        "print(\"Multinomial Naive Bayes Accuracy:\", accuracy_score(y_test, y_pred_nb))\n",
        "print(\"Classification Report for Naive Bayes:\\n\", classification_report(y_test, y_pred_nb, target_names=newsgroups.target_names)\n",
        "svm_clf = LinearSVC()\n",
        "svm_clf.fit(x_train, y_train)\n",
        "y_pred_svm = svm_clf.predict(x_test)\n",
        "print(\"Linear SVM Accuracy:\", accuracy_score(y_test, y_pred_svm))\n",
        "print(\"Classification Report for Linear SVM:\\n\", classification_report(y_test, y_pred_svm, target_names=newsgroups.target_names))\n"
      ]
    }
  ]
}